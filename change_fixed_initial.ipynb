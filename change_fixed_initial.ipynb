{
 "cells": [
  {
   "cell_type": "code",
   "execution_count": 1,
   "id": "0c0a031d",
   "metadata": {},
   "outputs": [],
   "source": [
    "from pysb import Model, Monomer, Parameter, Expression,  Rule, Observable, Initial\n",
    "from pysb.simulator import ScipyOdeSimulator\n",
    "import numpy as np\n",
    "import matplotlib.pyplot as plt"
   ]
  },
  {
   "cell_type": "markdown",
   "id": "654fea92",
   "metadata": {},
   "source": [
    "# Try with Initial(..., fixed=True)"
   ]
  },
  {
   "cell_type": "code",
   "execution_count": 2,
   "id": "90eaf713",
   "metadata": {},
   "outputs": [],
   "source": [
    "Model()\n",
    "model.name='test_fixed'"
   ]
  },
  {
   "cell_type": "code",
   "execution_count": 3,
   "id": "e084bc25",
   "metadata": {},
   "outputs": [
    {
     "data": {
      "text/plain": [
       "Monomer('Y', ['b'])"
      ]
     },
     "execution_count": 3,
     "metadata": {},
     "output_type": "execute_result"
    }
   ],
   "source": [
    "Monomer('X',['b'])\n",
    "Monomer('Y',['b'])"
   ]
  },
  {
   "cell_type": "markdown",
   "id": "6150638a",
   "metadata": {},
   "source": [
    "### Concentration of X is fixed"
   ]
  },
  {
   "cell_type": "code",
   "execution_count": 4,
   "id": "535c7ff1",
   "metadata": {},
   "outputs": [
    {
     "data": {
      "text/plain": [
       "Initial(Y(b=None), Y_0)"
      ]
     },
     "execution_count": 4,
     "metadata": {},
     "output_type": "execute_result"
    }
   ],
   "source": [
    "Parameter('k_XY', .1)\n",
    "\n",
    "Parameter('X_0', 1)\n",
    "Parameter('Y_0', 1)\n",
    "\n",
    "Initial(X(b=None), X_0, fixed=True)\n",
    "Initial(Y(b=None), Y_0)"
   ]
  },
  {
   "cell_type": "code",
   "execution_count": 5,
   "id": "7a98efd1",
   "metadata": {},
   "outputs": [
    {
     "data": {
      "text/latex": [
       "$\\displaystyle XY_{y}$"
      ],
      "text/plain": [
       "Observable('XY_y', X(b=1) % Y(b=1))"
      ]
     },
     "execution_count": 5,
     "metadata": {},
     "output_type": "execute_result"
    }
   ],
   "source": [
    "Observable('X_y', X(b=None))\n",
    "Observable('Y_y', Y(b=None))\n",
    "Observable('XY_y', X(b=1)%Y(b=1))"
   ]
  },
  {
   "cell_type": "code",
   "execution_count": 6,
   "id": "7bf5de8a",
   "metadata": {},
   "outputs": [
    {
     "data": {
      "text/plain": [
       "Rule('convert', X(b=None) + Y(b=None) >> X(b=1) % Y(b=1), k_XY)"
      ]
     },
     "execution_count": 6,
     "metadata": {},
     "output_type": "execute_result"
    }
   ],
   "source": [
    "Rule('convert', X(b=None) + Y(b=None) >> X(b=1)%Y(b=1), k_XY)"
   ]
  },
  {
   "cell_type": "code",
   "execution_count": 7,
   "id": "ea9163ce",
   "metadata": {},
   "outputs": [],
   "source": [
    "sim = ScipyOdeSimulator(model);"
   ]
  },
  {
   "cell_type": "code",
   "execution_count": 8,
   "id": "f7af3a7e",
   "metadata": {},
   "outputs": [],
   "source": [
    "tspan = np.linspace(0, 50, 1000)"
   ]
  },
  {
   "cell_type": "markdown",
   "id": "fd8dad8d",
   "metadata": {},
   "source": [
    "## X should have a constant concentration at 1.0"
   ]
  },
  {
   "cell_type": "code",
   "execution_count": 9,
   "id": "5567040d",
   "metadata": {},
   "outputs": [
    {
     "data": {
      "text/plain": [
       "<matplotlib.legend.Legend at 0x7faf305a0ee0>"
      ]
     },
     "execution_count": 9,
     "metadata": {},
     "output_type": "execute_result"
    },
    {
     "data": {
      "image/png": "[encoded data removed]",
      "text/plain": [
       "<Figure size 720x432 with 1 Axes>"
      ]
     },
     "metadata": {
      "needs_background": "light"
     },
     "output_type": "display_data"
    }
   ],
   "source": [
    "res = sim.run(tspan)\n",
    "y = res.all\n",
    "\n",
    "plt.figure(figsize=(10,6))\n",
    "plt.plot(y['X_y'], label='X')\n",
    "plt.plot(y['Y_y'], label='Y')\n",
    "plt.plot(y['XY_y'], label='XY')\n",
    "plt.legend()"
   ]
  },
  {
   "cell_type": "markdown",
   "id": "2fc4236a",
   "metadata": {},
   "source": [
    "## Try to change to fixed=False"
   ]
  },
  {
   "cell_type": "code",
   "execution_count": 10,
   "id": "9ec949ec",
   "metadata": {},
   "outputs": [
    {
     "data": {
      "text/plain": [
       "[Initial(X(b=None), X_0, fixed=True), Initial(Y(b=None), Y_0)]"
      ]
     },
     "execution_count": 10,
     "metadata": {},
     "output_type": "execute_result"
    }
   ],
   "source": [
    "model.initials"
   ]
  },
  {
   "cell_type": "code",
   "execution_count": 11,
   "id": "99e9e8aa",
   "metadata": {},
   "outputs": [],
   "source": [
    "model.initials[0].fixed = False"
   ]
  },
  {
   "cell_type": "markdown",
   "id": "8025d2f2",
   "metadata": {},
   "source": [
    "### Must run model.reset_equations to make change the \"fixed\" state of the initial condition"
   ]
  },
  {
   "cell_type": "code",
   "execution_count": 12,
   "id": "fcd6d98a",
   "metadata": {},
   "outputs": [],
   "source": [
    "model.reset_equations()"
   ]
  },
  {
   "cell_type": "code",
   "execution_count": 13,
   "id": "7b26921b",
   "metadata": {},
   "outputs": [],
   "source": [
    "sim = ScipyOdeSimulator(model);"
   ]
  },
  {
   "cell_type": "code",
   "execution_count": 15,
   "id": "15c0e118",
   "metadata": {},
   "outputs": [],
   "source": [
    "res = sim.run(tspan)\n",
    "y = res.all"
   ]
  },
  {
   "cell_type": "code",
   "execution_count": 16,
   "id": "1b76614e",
   "metadata": {},
   "outputs": [
    {
     "data": {
      "text/plain": [
       "<matplotlib.legend.Legend at 0x7faf308498b0>"
      ]
     },
     "execution_count": 16,
     "metadata": {},
     "output_type": "execute_result"
    },
    {
     "data": {
      "image/png": "[encoded data removed]",
      "text/plain": [
       "<Figure size 720x432 with 1 Axes>"
      ]
     },
     "metadata": {
      "needs_background": "light"
     },
     "output_type": "display_data"
    }
   ],
   "source": [
    "plt.figure(figsize=(10,6))\n",
    "plt.plot(y['X_y'], label='X')\n",
    "plt.plot(y['Y_y'], label='Y')\n",
    "plt.plot(y['XY_y'], label='XY')\n",
    "plt.legend()"
   ]
  },
  {
   "cell_type": "markdown",
   "id": "21c7e05a",
   "metadata": {},
   "source": [
    "## The concentration of X now is \"unfixed\" and decreases as expected"
   ]
  }
 ],
 "metadata": {
  "kernelspec": {
   "display_name": "Python [conda env:energy_modeling]",
   "language": "python",
   "name": "conda-env-energy_modeling-py"
  },
  "language_info": {
   "codemirror_mode": {
    "name": "ipython",
    "version": 3
   },
   "file_extension": ".py",
   "mimetype": "text/x-python",
   "name": "python",
   "nbconvert_exporter": "python",
   "pygments_lexer": "ipython3",
   "version": "3.9.12"
  }
 },
 "nbformat": 4,
 "nbformat_minor": 5
}
